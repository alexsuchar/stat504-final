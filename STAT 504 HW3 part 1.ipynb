{
 "cells": [
  {
   "cell_type": "markdown",
   "metadata": {},
   "source": [
    "#### STAT 504 HW3\n",
    "##### V.A. Suchar\n",
    "##### 12/09/2015"
   ]
  },
  {
   "cell_type": "markdown",
   "metadata": {},
   "source": [
    "> Data Set 1: STRONG-R Male Sample_Reduced_2014-03-14.csv (with variables description in  STRONG Codebook.xls). The response variable is FelRecidYr3 (1 versus 0) - Felony recidivism in 3 years."
   ]
  },
  {
   "cell_type": "markdown",
   "metadata": {},
   "source": [
    "> 1. Read data in dataframes"
   ]
  },
  {
   "cell_type": "code",
   "execution_count": 28,
   "metadata": {
    "collapsed": false
   },
   "outputs": [
    {
     "name": "stdout",
     "output_type": "stream",
     "text": [
      "   AgeAsses3RN  AgeAtFirstConvR  JvFelCon  JvVioCon  JvComit  HomConv  \\\n",
      "0            0                0         0         0        0        0   \n",
      "1            0                0         0         0        0        0   \n",
      "2            0                0         0         0        0        0   \n",
      "3            1                0         0         0        0        0   \n",
      "4            1                0         0         0        0        0   \n",
      "\n",
      "   SexConv  VProCon  AssaCon  DomVio     ...       CopEmpNd3  CopHouNd3  \\\n",
      "0        2        0        0       0     ...               0          0   \n",
      "1        0        0        0       0     ...               0          1   \n",
      "2        2        0        0       0     ...               0          0   \n",
      "3        0        0        1       0     ...               0          0   \n",
      "4        0        0        0       0     ...               0          0   \n",
      "\n",
      "   CopCloNd3  CopFodNd3  CopBugNd3  CopTraNd3  CopHygNd3  CopMedNd3  CopMHNd3  \\\n",
      "0          0          0          0          0          0          0         0   \n",
      "1          1          1          0          0          0          0         0   \n",
      "2          0          0          0          0          0          0         0   \n",
      "3          0          0          0          0          0          0         0   \n",
      "4          0          0          0          0          0          0         0   \n",
      "\n",
      "   FelRecidYr3  \n",
      "0            0  \n",
      "1            1  \n",
      "2               \n",
      "3            0  \n",
      "4            1  \n",
      "\n",
      "[5 rows x 338 columns]\n",
      "   AgeAsses3RN  AgeAtFirstConvR  JvFelCon  JvVioCon  JvComit  HomConv  \\\n",
      "0            0                0         0         0        0        0   \n",
      "1            0                0         0         0        0        0   \n",
      "2            0                0         0         0        0        0   \n",
      "3            1                0         0         0        0        0   \n",
      "4            1                0         0         0        0        0   \n",
      "\n",
      "   SexConv  VProCon  AssaCon  DomVio     ...       CopEmpNd3  CopHouNd3  \\\n",
      "0        2        0        0       0     ...               0          0   \n",
      "1        0        0        0       0     ...               0          1   \n",
      "2        2        0        0       0     ...               0          0   \n",
      "3        0        0        1       0     ...               0          0   \n",
      "4        0        0        0       0     ...               0          0   \n",
      "\n",
      "   CopCloNd3  CopFodNd3  CopBugNd3  CopTraNd3  CopHygNd3  CopMedNd3  CopMHNd3  \\\n",
      "0          0          0          0          0          0          0         0   \n",
      "1          1          1          0          0          0          0         0   \n",
      "2          0          0          0          0          0          0         0   \n",
      "3          0          0          0          0          0          0         0   \n",
      "4          0          0          0          0          0          0         0   \n",
      "\n",
      "   FelRecidYr3  \n",
      "0            0  \n",
      "1            1  \n",
      "2          NaN  \n",
      "3            0  \n",
      "4            1  \n",
      "\n",
      "[5 rows x 338 columns]\n",
      "   AgeAsses3RN  AgeAtFirstConvR  JvFelCon  JvVioCon  JvComit  HomConv  \\\n",
      "0            0                0         0         0        0        0   \n",
      "1            0                0         0         0        0        0   \n",
      "3            1                0         0         0        0        0   \n",
      "4            1                0         0         0        0        0   \n",
      "7            1                0         0         0        0        0   \n",
      "\n",
      "   SexConv  VProCon  AssaCon  DomVio     ...       CopEmpNd3  CopHouNd3  \\\n",
      "0        2        0        0       0     ...               0          0   \n",
      "1        0        0        0       0     ...               0          1   \n",
      "3        0        0        1       0     ...               0          0   \n",
      "4        0        0        0       0     ...               0          0   \n",
      "7        0        0        0       0     ...               0          0   \n",
      "\n",
      "   CopCloNd3  CopFodNd3  CopBugNd3  CopTraNd3  CopHygNd3  CopMedNd3  CopMHNd3  \\\n",
      "0          0          0          0          0          0          0         0   \n",
      "1          1          1          0          0          0          0         0   \n",
      "3          0          0          0          0          0          0         0   \n",
      "4          0          0          0          0          0          0         0   \n",
      "7          0          0          0          0          0          0         0   \n",
      "\n",
      "   FelRecidYr3  \n",
      "0            0  \n",
      "1            1  \n",
      "3            0  \n",
      "4            1  \n",
      "7            0  \n",
      "\n",
      "[5 rows x 338 columns]\n"
     ]
    },
    {
     "data": {
      "text/html": [
       "<div>\n",
       "<table border=\"1\" class=\"dataframe\">\n",
       "  <thead>\n",
       "    <tr style=\"text-align: right;\">\n",
       "      <th></th>\n",
       "      <th>AgeAsses3RN</th>\n",
       "      <th>AgeAtFirstConvR</th>\n",
       "      <th>JvFelCon</th>\n",
       "      <th>JvVioCon</th>\n",
       "      <th>JvComit</th>\n",
       "      <th>HomConv</th>\n",
       "      <th>SexConv</th>\n",
       "      <th>VProCon</th>\n",
       "      <th>AssaCon</th>\n",
       "      <th>DomVio</th>\n",
       "      <th>...</th>\n",
       "      <th>CopEmpNd3</th>\n",
       "      <th>CopHouNd3</th>\n",
       "      <th>CopCloNd3</th>\n",
       "      <th>CopFodNd3</th>\n",
       "      <th>CopBugNd3</th>\n",
       "      <th>CopTraNd3</th>\n",
       "      <th>CopHygNd3</th>\n",
       "      <th>CopMedNd3</th>\n",
       "      <th>CopMHNd3</th>\n",
       "      <th>FelRecidYr3</th>\n",
       "    </tr>\n",
       "  </thead>\n",
       "  <tbody>\n",
       "    <tr>\n",
       "      <th>count</th>\n",
       "      <td>21373.000000</td>\n",
       "      <td>21373.000000</td>\n",
       "      <td>21373.000000</td>\n",
       "      <td>21373.000000</td>\n",
       "      <td>21373.000000</td>\n",
       "      <td>21373.000000</td>\n",
       "      <td>21373.000000</td>\n",
       "      <td>21373.000000</td>\n",
       "      <td>21373.000000</td>\n",
       "      <td>21373.000000</td>\n",
       "      <td>...</td>\n",
       "      <td>21373.000000</td>\n",
       "      <td>21373.000000</td>\n",
       "      <td>21373.000000</td>\n",
       "      <td>21373.000000</td>\n",
       "      <td>21373.000000</td>\n",
       "      <td>21373.00000</td>\n",
       "      <td>21373.000000</td>\n",
       "      <td>21373.000000</td>\n",
       "      <td>21373.000000</td>\n",
       "      <td>21373.000000</td>\n",
       "    </tr>\n",
       "    <tr>\n",
       "      <th>mean</th>\n",
       "      <td>3.128480</td>\n",
       "      <td>0.840453</td>\n",
       "      <td>0.233472</td>\n",
       "      <td>0.059889</td>\n",
       "      <td>0.029149</td>\n",
       "      <td>0.007954</td>\n",
       "      <td>0.162682</td>\n",
       "      <td>0.088102</td>\n",
       "      <td>0.204651</td>\n",
       "      <td>0.171057</td>\n",
       "      <td>...</td>\n",
       "      <td>0.259580</td>\n",
       "      <td>0.212885</td>\n",
       "      <td>0.084031</td>\n",
       "      <td>0.123988</td>\n",
       "      <td>0.117953</td>\n",
       "      <td>0.15164</td>\n",
       "      <td>0.024189</td>\n",
       "      <td>0.074814</td>\n",
       "      <td>0.092874</td>\n",
       "      <td>0.304777</td>\n",
       "    </tr>\n",
       "    <tr>\n",
       "      <th>std</th>\n",
       "      <td>1.177992</td>\n",
       "      <td>0.899132</td>\n",
       "      <td>0.719016</td>\n",
       "      <td>0.266276</td>\n",
       "      <td>0.199292</td>\n",
       "      <td>0.088832</td>\n",
       "      <td>0.443376</td>\n",
       "      <td>0.310999</td>\n",
       "      <td>0.472174</td>\n",
       "      <td>0.428961</td>\n",
       "      <td>...</td>\n",
       "      <td>0.438414</td>\n",
       "      <td>0.409357</td>\n",
       "      <td>0.277441</td>\n",
       "      <td>0.329576</td>\n",
       "      <td>0.322559</td>\n",
       "      <td>0.35868</td>\n",
       "      <td>0.153640</td>\n",
       "      <td>0.263097</td>\n",
       "      <td>0.290263</td>\n",
       "      <td>0.460324</td>\n",
       "    </tr>\n",
       "    <tr>\n",
       "      <th>min</th>\n",
       "      <td>0.000000</td>\n",
       "      <td>0.000000</td>\n",
       "      <td>0.000000</td>\n",
       "      <td>0.000000</td>\n",
       "      <td>0.000000</td>\n",
       "      <td>0.000000</td>\n",
       "      <td>0.000000</td>\n",
       "      <td>0.000000</td>\n",
       "      <td>0.000000</td>\n",
       "      <td>0.000000</td>\n",
       "      <td>...</td>\n",
       "      <td>0.000000</td>\n",
       "      <td>0.000000</td>\n",
       "      <td>0.000000</td>\n",
       "      <td>0.000000</td>\n",
       "      <td>0.000000</td>\n",
       "      <td>0.00000</td>\n",
       "      <td>0.000000</td>\n",
       "      <td>0.000000</td>\n",
       "      <td>0.000000</td>\n",
       "      <td>0.000000</td>\n",
       "    </tr>\n",
       "    <tr>\n",
       "      <th>25%</th>\n",
       "      <td>2.000000</td>\n",
       "      <td>0.000000</td>\n",
       "      <td>0.000000</td>\n",
       "      <td>0.000000</td>\n",
       "      <td>0.000000</td>\n",
       "      <td>0.000000</td>\n",
       "      <td>0.000000</td>\n",
       "      <td>0.000000</td>\n",
       "      <td>0.000000</td>\n",
       "      <td>0.000000</td>\n",
       "      <td>...</td>\n",
       "      <td>0.000000</td>\n",
       "      <td>0.000000</td>\n",
       "      <td>0.000000</td>\n",
       "      <td>0.000000</td>\n",
       "      <td>0.000000</td>\n",
       "      <td>0.00000</td>\n",
       "      <td>0.000000</td>\n",
       "      <td>0.000000</td>\n",
       "      <td>0.000000</td>\n",
       "      <td>0.000000</td>\n",
       "    </tr>\n",
       "    <tr>\n",
       "      <th>50%</th>\n",
       "      <td>3.000000</td>\n",
       "      <td>1.000000</td>\n",
       "      <td>0.000000</td>\n",
       "      <td>0.000000</td>\n",
       "      <td>0.000000</td>\n",
       "      <td>0.000000</td>\n",
       "      <td>0.000000</td>\n",
       "      <td>0.000000</td>\n",
       "      <td>0.000000</td>\n",
       "      <td>0.000000</td>\n",
       "      <td>...</td>\n",
       "      <td>0.000000</td>\n",
       "      <td>0.000000</td>\n",
       "      <td>0.000000</td>\n",
       "      <td>0.000000</td>\n",
       "      <td>0.000000</td>\n",
       "      <td>0.00000</td>\n",
       "      <td>0.000000</td>\n",
       "      <td>0.000000</td>\n",
       "      <td>0.000000</td>\n",
       "      <td>0.000000</td>\n",
       "    </tr>\n",
       "    <tr>\n",
       "      <th>75%</th>\n",
       "      <td>4.000000</td>\n",
       "      <td>2.000000</td>\n",
       "      <td>0.000000</td>\n",
       "      <td>0.000000</td>\n",
       "      <td>0.000000</td>\n",
       "      <td>0.000000</td>\n",
       "      <td>0.000000</td>\n",
       "      <td>0.000000</td>\n",
       "      <td>0.000000</td>\n",
       "      <td>0.000000</td>\n",
       "      <td>...</td>\n",
       "      <td>1.000000</td>\n",
       "      <td>0.000000</td>\n",
       "      <td>0.000000</td>\n",
       "      <td>0.000000</td>\n",
       "      <td>0.000000</td>\n",
       "      <td>0.00000</td>\n",
       "      <td>0.000000</td>\n",
       "      <td>0.000000</td>\n",
       "      <td>0.000000</td>\n",
       "      <td>1.000000</td>\n",
       "    </tr>\n",
       "    <tr>\n",
       "      <th>max</th>\n",
       "      <td>6.000000</td>\n",
       "      <td>3.000000</td>\n",
       "      <td>5.000000</td>\n",
       "      <td>3.000000</td>\n",
       "      <td>2.000000</td>\n",
       "      <td>1.000000</td>\n",
       "      <td>2.000000</td>\n",
       "      <td>2.000000</td>\n",
       "      <td>3.000000</td>\n",
       "      <td>2.000000</td>\n",
       "      <td>...</td>\n",
       "      <td>1.000000</td>\n",
       "      <td>1.000000</td>\n",
       "      <td>1.000000</td>\n",
       "      <td>1.000000</td>\n",
       "      <td>1.000000</td>\n",
       "      <td>1.00000</td>\n",
       "      <td>1.000000</td>\n",
       "      <td>1.000000</td>\n",
       "      <td>1.000000</td>\n",
       "      <td>1.000000</td>\n",
       "    </tr>\n",
       "  </tbody>\n",
       "</table>\n",
       "<p>8 rows × 338 columns</p>\n",
       "</div>"
      ],
      "text/plain": [
       "        AgeAsses3RN  AgeAtFirstConvR      JvFelCon      JvVioCon  \\\n",
       "count  21373.000000     21373.000000  21373.000000  21373.000000   \n",
       "mean       3.128480         0.840453      0.233472      0.059889   \n",
       "std        1.177992         0.899132      0.719016      0.266276   \n",
       "min        0.000000         0.000000      0.000000      0.000000   \n",
       "25%        2.000000         0.000000      0.000000      0.000000   \n",
       "50%        3.000000         1.000000      0.000000      0.000000   \n",
       "75%        4.000000         2.000000      0.000000      0.000000   \n",
       "max        6.000000         3.000000      5.000000      3.000000   \n",
       "\n",
       "            JvComit       HomConv       SexConv       VProCon       AssaCon  \\\n",
       "count  21373.000000  21373.000000  21373.000000  21373.000000  21373.000000   \n",
       "mean       0.029149      0.007954      0.162682      0.088102      0.204651   \n",
       "std        0.199292      0.088832      0.443376      0.310999      0.472174   \n",
       "min        0.000000      0.000000      0.000000      0.000000      0.000000   \n",
       "25%        0.000000      0.000000      0.000000      0.000000      0.000000   \n",
       "50%        0.000000      0.000000      0.000000      0.000000      0.000000   \n",
       "75%        0.000000      0.000000      0.000000      0.000000      0.000000   \n",
       "max        2.000000      1.000000      2.000000      2.000000      3.000000   \n",
       "\n",
       "             DomVio      ...          CopEmpNd3     CopHouNd3     CopCloNd3  \\\n",
       "count  21373.000000      ...       21373.000000  21373.000000  21373.000000   \n",
       "mean       0.171057      ...           0.259580      0.212885      0.084031   \n",
       "std        0.428961      ...           0.438414      0.409357      0.277441   \n",
       "min        0.000000      ...           0.000000      0.000000      0.000000   \n",
       "25%        0.000000      ...           0.000000      0.000000      0.000000   \n",
       "50%        0.000000      ...           0.000000      0.000000      0.000000   \n",
       "75%        0.000000      ...           1.000000      0.000000      0.000000   \n",
       "max        2.000000      ...           1.000000      1.000000      1.000000   \n",
       "\n",
       "          CopFodNd3     CopBugNd3    CopTraNd3     CopHygNd3     CopMedNd3  \\\n",
       "count  21373.000000  21373.000000  21373.00000  21373.000000  21373.000000   \n",
       "mean       0.123988      0.117953      0.15164      0.024189      0.074814   \n",
       "std        0.329576      0.322559      0.35868      0.153640      0.263097   \n",
       "min        0.000000      0.000000      0.00000      0.000000      0.000000   \n",
       "25%        0.000000      0.000000      0.00000      0.000000      0.000000   \n",
       "50%        0.000000      0.000000      0.00000      0.000000      0.000000   \n",
       "75%        0.000000      0.000000      0.00000      0.000000      0.000000   \n",
       "max        1.000000      1.000000      1.00000      1.000000      1.000000   \n",
       "\n",
       "           CopMHNd3   FelRecidYr3  \n",
       "count  21373.000000  21373.000000  \n",
       "mean       0.092874      0.304777  \n",
       "std        0.290263      0.460324  \n",
       "min        0.000000      0.000000  \n",
       "25%        0.000000      0.000000  \n",
       "50%        0.000000      0.000000  \n",
       "75%        0.000000      1.000000  \n",
       "max        1.000000      1.000000  \n",
       "\n",
       "[8 rows x 338 columns]"
      ]
     },
     "execution_count": 28,
     "metadata": {},
     "output_type": "execute_result"
    }
   ],
   "source": [
    "import pandas as pd\n",
    "import numpy as np\n",
    "df=pd.read_csv('C:/Users/vasiles/OneDrive/STAT 504 Python/hw3/dataset1.csv')\n",
    "print df.head()\n",
    "# replace missing values with nan's\n",
    "df1=df.replace(' ', np.NaN)\n",
    "print df1.head()\n",
    "# drop nan's\n",
    "df1=df1.dropna()\n",
    "print df1.head()\n",
    "\n",
    "df1['FelRecidYr3']=df1['FelRecidYr3'].astype(float)\n",
    "df1.describe()"
   ]
  },
  {
   "cell_type": "markdown",
   "metadata": {},
   "source": [
    "> Use a random seed 1234567, split the new DataFrame into training and testing sets, using the review text as the feature and the star rating as the response variable"
   ]
  },
  {
   "cell_type": "code",
   "execution_count": 29,
   "metadata": {
    "collapsed": false
   },
   "outputs": [
    {
     "name": "stdout",
     "output_type": "stream",
     "text": [
      "(16029, 337)\n",
      "(5344, 337)\n"
     ]
    }
   ],
   "source": [
    "X=df1.drop('FelRecidYr3',1)\n",
    "Y=df1.FelRecidYr3\n",
    "\n",
    "from sklearn.cross_validation import train_test_split\n",
    "X_train, X_test, y_train, y_test = train_test_split(X, Y, random_state=1234567)\n",
    "\n",
    "print X_train.shape\n",
    "print X_test.shape"
   ]
  },
  {
   "cell_type": "markdown",
   "metadata": {},
   "source": [
    "> 1. Naive Bayes"
   ]
  },
  {
   "cell_type": "code",
   "execution_count": 30,
   "metadata": {
    "collapsed": false
   },
   "outputs": [
    {
     "name": "stdout",
     "output_type": "stream",
     "text": [
      "0.699101796407\n",
      "[ 0.69638404  0.68952618  0.66396509  0.68434186  0.68746101  0.68059888\n",
      "  0.68913858  0.70162297  0.67290886  0.69787765]\n",
      "0.686382512336\n",
      "0.729122707242 seconds process time\n"
     ]
    }
   ],
   "source": [
    "import time\n",
    "# measure process time\n",
    "t0 = time.clock()\n",
    "\n",
    "from sklearn.naive_bayes import MultinomialNB\n",
    "nb= MultinomialNB()\n",
    "X = X_train\n",
    "y = y_train\n",
    "nb.fit(X, y)\n",
    "nb_pred_rating = nb.predict(X) # class predictions\n",
    "nb_pred_prob = nb.predict_proba(X)[:, 1]\n",
    "# rating 5 is col 0 rating 1 is col 1\n",
    "y_pred_rating=nb.predict(X_test)\n",
    "from sklearn import metrics\n",
    "print metrics.accuracy_score(y_test, y_pred_rating)\n",
    "# 10 fold cross-validation\n",
    "from sklearn.cross_validation import cross_val_score\n",
    "nb_10cv_auc = cross_val_score(nb, X, y, cv=10, scoring='accuracy')\n",
    "print nb_10cv_auc\n",
    "print nb_10cv_auc.mean()\n",
    "\n",
    "print time.clock() - t0, \"seconds process time\"\n",
    "nb_time=time.clock() - t0"
   ]
  },
  {
   "cell_type": "markdown",
   "metadata": {},
   "source": [
    "> 2. KNN"
   ]
  },
  {
   "cell_type": "code",
   "execution_count": 31,
   "metadata": {
    "collapsed": false
   },
   "outputs": [
    {
     "name": "stdout",
     "output_type": "stream",
     "text": [
      "0.666541916168\n",
      "[ 0.69326683  0.66957606  0.66022444  0.67373674  0.68059888  0.66999376\n",
      "  0.65667915  0.67915106  0.6710362   0.66666667]\n",
      "0.672092979772\n",
      "226.866412253 seconds process time\n"
     ]
    }
   ],
   "source": [
    "# measure process time\n",
    "t0 = time.clock()\n",
    "\n",
    "from sklearn.neighbors import KNeighborsClassifier\n",
    "knn = KNeighborsClassifier(n_neighbors=1)\n",
    "X = X_train\n",
    "y = y_train\n",
    "knn.fit(X, y)\n",
    "knn_pred_rating = knn.predict(X) # class predictions\n",
    "knn_pred_prob = knn.predict_proba(X)[:, 1]\n",
    "\n",
    "y_pred_rating=knn.predict(X_test)\n",
    "from sklearn import metrics\n",
    "print metrics.accuracy_score(y_test, y_pred_rating)\n",
    "# 10 fold cross-validation\n",
    "from sklearn.cross_validation import cross_val_score\n",
    "knn_10cv_auc = cross_val_score(knn, X, y, cv=10, scoring='accuracy')\n",
    "print knn_10cv_auc\n",
    "print knn_10cv_auc.mean()\n",
    "\n",
    "print time.clock() - t0, \"seconds process time\"\n",
    "knn_time=time.clock() - t0"
   ]
  },
  {
   "cell_type": "markdown",
   "metadata": {},
   "source": [
    "> 3. Logistic Regression"
   ]
  },
  {
   "cell_type": "code",
   "execution_count": 32,
   "metadata": {
    "collapsed": false
   },
   "outputs": [
    {
     "name": "stdout",
     "output_type": "stream",
     "text": [
      "0.721744011976\n",
      "[ 0.74625935  0.73316708  0.72755611  0.74173425  0.71366188  0.70742358\n",
      "  0.73782772  0.72721598  0.73283396  0.73533084]\n",
      "0.730301074607\n",
      "37.3135954387 seconds process time\n"
     ]
    }
   ],
   "source": [
    "t0 = time.clock()\n",
    "\n",
    "from sklearn.linear_model import LogisticRegression\n",
    "logreg = LogisticRegression(C=1e9)\n",
    "X = X_train\n",
    "y = y_train\n",
    "logreg.fit(X, y)\n",
    "lg_pred_rating = logreg.predict(X) # class predictions\n",
    "\n",
    "# store the predicted probabilites of class 1\n",
    "lg_pred_prob = logreg.predict_proba(X)[:, 1]\n",
    "\n",
    "y_pred_rating=logreg.predict(X_test)\n",
    "from sklearn import metrics\n",
    "print metrics.accuracy_score(y_test, y_pred_rating)\n",
    "# 10 fold cross-validation\n",
    "from sklearn.cross_validation import cross_val_score\n",
    "lg_10cv_auc = cross_val_score(logreg, X, y, cv=10, scoring='accuracy')\n",
    "print lg_10cv_auc\n",
    "print lg_10cv_auc.mean()\n",
    "\n",
    "\n",
    "print time.clock() - t0, \"seconds process time\"\n",
    "lg_time=time.clock() - t0"
   ]
  },
  {
   "cell_type": "markdown",
   "metadata": {},
   "source": [
    "> 4. SVM Polynomial"
   ]
  },
  {
   "cell_type": "code",
   "execution_count": 33,
   "metadata": {
    "collapsed": false
   },
   "outputs": [
    {
     "name": "stdout",
     "output_type": "stream",
     "text": [
      "[ 0.73753117  0.72755611  0.71446384  0.73674361  0.71927636  0.72177168\n",
      "  0.7309613   0.72409488  0.72409488  0.72908864]\n",
      "0.726558246324\n",
      "666.533479497 seconds process time\n"
     ]
    }
   ],
   "source": [
    "t0 = time.clock()\n",
    "\n",
    "from sklearn import svm\n",
    "svmp = svm.SVC(kernel='poly', C = 1.0, degree=3)\n",
    "X = X_train\n",
    "y = y_train\n",
    "svmp.fit(X,y)\n",
    "from sklearn.cross_validation import cross_val_score\n",
    "svmp_10cv_auc = cross_val_score(svmp, X, y, cv=10, scoring='accuracy')\n",
    "print svmp_10cv_auc\n",
    "print svmp_10cv_auc.mean()\n",
    "\n",
    "\n",
    "print time.clock() - t0, \"seconds process time\"\n",
    "svmp_time=time.clock() - t0"
   ]
  },
  {
   "cell_type": "markdown",
   "metadata": {},
   "source": [
    "> 5. SVM Gaussian"
   ]
  },
  {
   "cell_type": "code",
   "execution_count": 34,
   "metadata": {
    "collapsed": false
   },
   "outputs": [
    {
     "name": "stdout",
     "output_type": "stream",
     "text": [
      "[ 0.69825436  0.69950125  0.70074813  0.70243294  0.69931379  0.69931379\n",
      "  0.69912609  0.69975031  0.69912609  0.70224719]\n",
      "0.699981394008\n",
      "2704.81551048 seconds process time\n"
     ]
    }
   ],
   "source": [
    "# measure process time\n",
    "t0 = time.clock()\n",
    "\n",
    "from sklearn import svm\n",
    "svmg = svm.SVC(kernel='rbf', C = 1.0, gamma=1)\n",
    "X = X_train\n",
    "y = y_train\n",
    "svmg.fit(X,y)\n",
    "from sklearn.cross_validation import cross_val_score\n",
    "svmg_10cv_auc = cross_val_score(svmg, X, y, cv=10, scoring='accuracy')\n",
    "print svmg_10cv_auc\n",
    "print svmg_10cv_auc.mean()\n",
    "\n",
    "\n",
    "print time.clock() - t0, \"seconds process time\"\n",
    "svmg_time=time.clock() - t0"
   ]
  },
  {
   "cell_type": "markdown",
   "metadata": {},
   "source": [
    "> 6. Tree"
   ]
  },
  {
   "cell_type": "code",
   "execution_count": 35,
   "metadata": {
    "collapsed": false
   },
   "outputs": [
    {
     "name": "stdout",
     "output_type": "stream",
     "text": [
      "[ 0.70885287  0.70698254  0.70822943  0.70742358  0.69931379  0.69619464\n",
      "  0.70287141  0.70911361  0.69038702  0.71161049]\n",
      "0.704097936225\n",
      "1.78352341917 seconds process time\n"
     ]
    }
   ],
   "source": [
    "# measure process time\n",
    "t0 = time.clock()\n",
    "\n",
    "from sklearn.tree import DecisionTreeClassifier\n",
    "tree = DecisionTreeClassifier(max_depth=3, random_state=1)\n",
    "X = X_train\n",
    "y = y_train\n",
    "tree.fit(X,y)\n",
    "from sklearn.cross_validation import cross_val_score\n",
    "tree_10cv_auc = cross_val_score(tree, X, y, cv=10, scoring='accuracy')\n",
    "print tree_10cv_auc\n",
    "print tree_10cv_auc.mean()\n",
    "\n",
    "\n",
    "print time.clock() - t0, \"seconds process time\"\n",
    "tree_time=time.clock() - t0"
   ]
  },
  {
   "cell_type": "markdown",
   "metadata": {},
   "source": [
    "> 7. Bagging"
   ]
  },
  {
   "cell_type": "code",
   "execution_count": 36,
   "metadata": {
    "collapsed": false
   },
   "outputs": [
    {
     "name": "stdout",
     "output_type": "stream",
     "text": [
      "[ 0.72007481  0.71446384  0.71633416  0.71990019  0.70929507  0.70929507\n",
      "  0.71161049  0.71910112  0.70599251  0.70786517]\n",
      "0.713393243697\n",
      "13.3094254439 seconds process time\n"
     ]
    }
   ],
   "source": [
    "# measure process time\n",
    "t0 = time.clock()\n",
    "\n",
    "from sklearn.ensemble import BaggingClassifier\n",
    "bag=BaggingClassifier(tree,n_estimators=10, random_state=1)\n",
    "X = X_train\n",
    "y = y_train\n",
    "bag.fit(X,y)\n",
    "from sklearn.cross_validation import cross_val_score\n",
    "bag_10cv_auc = cross_val_score(bag, X, y, cv=10, scoring='accuracy')\n",
    "print bag_10cv_auc\n",
    "print bag_10cv_auc.mean()\n",
    "\n",
    "\n",
    "print time.clock() - t0, \"seconds process time\"\n",
    "bag_time=time.clock() - t0"
   ]
  },
  {
   "cell_type": "markdown",
   "metadata": {},
   "source": [
    "> 8. Random Forest "
   ]
  },
  {
   "cell_type": "code",
   "execution_count": 37,
   "metadata": {
    "collapsed": false
   },
   "outputs": [
    {
     "name": "stdout",
     "output_type": "stream",
     "text": [
      "[ 0.71197007  0.71882793  0.71321696  0.724267    0.70305677  0.68683718\n",
      "  0.73220974  0.72222222  0.69975031  0.70599251]\n",
      "0.711835069234\n",
      "4.8575518442 seconds process time\n"
     ]
    }
   ],
   "source": [
    "# measure process time\n",
    "t0 = time.clock()\n",
    "\n",
    "from sklearn.ensemble import RandomForestClassifier\n",
    "rf = RandomForestClassifier(n_estimators=10, random_state=1)\n",
    "X = X_train\n",
    "y = y_train\n",
    "rf.fit(X,y)\n",
    "from sklearn.cross_validation import cross_val_score\n",
    "rf_10cv_auc = cross_val_score(rf, X, y, cv=10, scoring='accuracy')\n",
    "print rf_10cv_auc\n",
    "print rf_10cv_auc.mean()\n",
    "\n",
    "\n",
    "print time.clock() - t0, \"seconds process time\"\n",
    "rf_time=time.clock() - t0"
   ]
  },
  {
   "cell_type": "markdown",
   "metadata": {},
   "source": [
    "> 9. Noisy replication : STILL NOT WORKING"
   ]
  },
  {
   "cell_type": "code",
   "execution_count": 38,
   "metadata": {
    "collapsed": false
   },
   "outputs": [
    {
     "data": {
      "text/plain": [
       "array([[ 0.,  0.,  0., ...,  0.,  0.,  0.],\n",
       "       [ 1.,  1.,  1., ...,  1.,  1.,  1.],\n",
       "       [ 0.,  0.,  0., ...,  0.,  0.,  0.],\n",
       "       [ 0.,  0.,  0., ...,  0.,  0.,  0.],\n",
       "       [ 0.,  0.,  0., ...,  0.,  0.,  0.]])"
      ]
     },
     "execution_count": 38,
     "metadata": {},
     "output_type": "execute_result"
    }
   ],
   "source": [
    "# set a seed for reproducibility\n",
    "np.random.seed(1234567)\n",
    "# create five bootstrap samples (will be used to select rows from the DataFrame)\n",
    "samples = [np.random.choice(a=16029, size=16029, replace=True) for _ in range(1, 6)]\n",
    "samples\n",
    "X_train.iloc[samples[0],:]\n",
    "\n",
    "from sklearn.tree import DecisionTreeClassifier\n",
    "tree2 = DecisionTreeClassifier(max_depth=3, random_state=1)\n",
    "# list for storing predicted price from each tree\n",
    "predictions = []\n",
    "# grow one tree for each bootstrap sample and make predictions on testing data\n",
    "for sample in samples:\n",
    "    X_train_new = X_train.iloc[sample[0],:]\n",
    "    y_train_new = y_train.iloc[sample[0]]\n",
    "    tree2.fit(X_train_new, y_train_new)\n",
    "    y_pred = tree2.predict(X_test)\n",
    "    predictions.append(y_pred)\n",
    "\n",
    "# convert predictions from list to NumPy array\n",
    "predictions = np.array(predictions)\n",
    "predictions\n",
    "\n",
    "# INCOMPLETE?NOT WORKING!!!!!!!!!!!"
   ]
  },
  {
   "cell_type": "markdown",
   "metadata": {},
   "source": [
    "> 10. AdaBoost classifier\n",
    ">\n",
    "> An AdaBoost classifier is a meta-estimator that begins by fitting a classifier\n",
    "> on the original dataset and then fits additional copies of the classifier on \n",
    "> the same dataset but where the weights of incorrectly classified instances are \n",
    "> adjusted such that subsequent classifiers focus more on difficult cases\n",
    "> measure process time"
   ]
  },
  {
   "cell_type": "code",
   "execution_count": 39,
   "metadata": {
    "collapsed": false
   },
   "outputs": [
    {
     "name": "stdout",
     "output_type": "stream",
     "text": [
      "[ 0.71072319  0.71633416  0.71321696  0.72613849  0.70056145  0.70430443\n",
      "  0.71473159  0.70973783  0.70287141  0.72409488]\n",
      "0.712271438639\n",
      "5.91747099206 seconds process time\n"
     ]
    }
   ],
   "source": [
    "t0 = time.clock()\n",
    "\n",
    "from sklearn.ensemble import AdaBoostClassifier\n",
    "ada = AdaBoostClassifier(n_estimators=10, random_state=1)\n",
    "X = X_train\n",
    "y = y_train\n",
    "ada.fit(X,y)\n",
    "from sklearn.cross_validation import cross_val_score\n",
    "ada_10cv_auc = cross_val_score(ada, X, y, cv=10, scoring='accuracy')\n",
    "print ada_10cv_auc\n",
    "print ada_10cv_auc.mean()\n",
    "\n",
    "\n",
    "print time.clock() - t0, \"seconds process time\"\n",
    "ada_time=time.clock() - t0"
   ]
  },
  {
   "cell_type": "markdown",
   "metadata": {},
   "source": [
    "> PLOTS"
   ]
  },
  {
   "cell_type": "code",
   "execution_count": 40,
   "metadata": {
    "collapsed": false
   },
   "outputs": [
    {
     "name": "stdout",
     "output_type": "stream",
     "text": [
      "49.9863184688 seconds process time\n"
     ]
    }
   ],
   "source": [
    "t0 = time.clock()\n",
    "\n",
    "import matplotlib.patches as mpatches\n",
    "import matplotlib.pyplot as plt\n",
    "\n",
    "# NB:\n",
    "y_pred_prob = nb.predict_proba(X_test)[:, 1]\n",
    "nb_auc=metrics.roc_auc_score(y_test, y_pred_prob)\n",
    "#print metrics.roc_auc_score(y_test, y_pred_prob)\n",
    "nb_fpr, nb_tpr, nb_thresholds = metrics.roc_curve(y_test, y_pred_prob)\n",
    "# KNN:\n",
    "y_pred_prob = knn.predict_proba(X_test)[:, 1]\n",
    "knn_auc=metrics.roc_auc_score(y_test, y_pred_prob)\n",
    "#print metrics.roc_auc_score(y_test, y_pred_prob)\n",
    "knn_fpr, knn_tpr, knn_thresholds = metrics.roc_curve(y_test, y_pred_prob)\n",
    "# LG:\n",
    "y_pred_prob = logreg.predict_proba(X_test)[:, 1]\n",
    "logreg_auc=metrics.roc_auc_score(y_test, y_pred_prob)\n",
    "#print metrics.roc_auc_score(y_test, y_pred_prob)\n",
    "lg_fpr, lg_tpr, lg_thresholds = metrics.roc_curve(y_test, y_pred_prob)\n",
    "#TREE:\n",
    "y_pred_prob = tree.predict_proba(X_test)[:, 1]\n",
    "tree_auc=metrics.roc_auc_score(y_test, y_pred_prob)\n",
    "#print metrics.roc_auc_score(y_test, y_pred_prob)\n",
    "tree_fpr, tree_tpr, tree_thresholds = metrics.roc_curve(y_test, y_pred_prob)\n",
    "# BAG:\n",
    "y_pred_prob = bag.predict_proba(X_test)[:, 1]\n",
    "bag_auc=metrics.roc_auc_score(y_test, y_pred_prob)\n",
    "#print metrics.roc_auc_score(y_test, y_pred_prob)\n",
    "bag_fpr, bag_tpr, bag_thresholds = metrics.roc_curve(y_test, y_pred_prob)\n",
    "# RF:\n",
    "y_pred_prob = rf.predict_proba(X_test)[:, 1]\n",
    "rf_auc=metrics.roc_auc_score(y_test, y_pred_prob)\n",
    "#print metrics.roc_auc_score(y_test, y_pred_prob)\n",
    "rf_fpr, rf_tpr, rf_thresholds = metrics.roc_curve(y_test, y_pred_prob)\n",
    "# ADA:\n",
    "y_pred_prob = ada.predict_proba(X_test)[:, 1]\n",
    "ada_auc=metrics.roc_auc_score(y_test, y_pred_prob)\n",
    "#print metrics.roc_auc_score(y_test, y_pred_prob)\n",
    "ada_fpr, ada_tpr, ada_thresholds = metrics.roc_curve(y_test, y_pred_prob)\n",
    "\n",
    "print time.clock() - t0, \"seconds process time\"\n",
    "plot_time=time.clock() - t0"
   ]
  },
  {
   "cell_type": "code",
   "execution_count": 47,
   "metadata": {
    "collapsed": false
   },
   "outputs": [
    {
     "data": {
      "image/png": "[encoded data removed]",
      "text/plain": [
       "<matplotlib.figure.Figure at 0x1375fa58>"
      ]
     },
     "metadata": {},
     "output_type": "display_data"
    }
   ],
   "source": [
    "%matplotlib inline\n",
    "plt.plot(nb_fpr, nb_tpr, knn_fpr, knn_tpr, lg_fpr, lg_tpr, tree_fpr, tree_tpr, bag_fpr, bag_tpr, rf_fpr, rf_tpr,ada_fpr, ada_tpr, linewidth=2.0)\n",
    "plt.xlim([0.0, 1.0])\n",
    "plt.ylim([0.0, 1.0])\n",
    "plt.title('ROC Curves')\n",
    "plt.xlabel('False Positive Rate (1 - Specificity)')\n",
    "plt.ylabel('True Positive Rate (Sensitivity)')\n",
    "nb = mpatches.Patch(color='blue', label='nb')\n",
    "knn= mpatches.Patch(color='green', label='knn')\n",
    "lg = mpatches.Patch(color='red', label='lg')\n",
    "tree = mpatches.Patch(color='cyan', label='tree')\n",
    "bag = mpatches.Patch(color='magenta', label='bag')\n",
    "rf = mpatches.Patch(color='yellow', label='rf')\n",
    "ada= mpatches.Patch(color='black', label='ada')\n",
    "plt.legend(handles=[nb,knn,lg,tree,bag,rf,ada], loc=4)\n",
    "plt.grid(True)"
   ]
  },
  {
   "cell_type": "markdown",
   "metadata": {},
   "source": [
    "> Tabulate the 10cv_auc.means"
   ]
  },
  {
   "cell_type": "code",
   "execution_count": 48,
   "metadata": {
    "collapsed": false
   },
   "outputs": [
    {
     "name": "stdout",
     "output_type": "stream",
     "text": [
      "0.686382512336\n",
      "0.729211154357\n",
      "0.672092979772\n",
      "226.866542056\n",
      "0.730301074607\n",
      "37.3136497748\n",
      "0.704097936225\n",
      "1.78358198142\n",
      "0.713393243697\n",
      "13.3094791763\n",
      "0.711835069234\n",
      "4.85760859525\n",
      "0.726558246324\n",
      "666.533545908\n",
      "0.699981394008\n",
      "2704.81556512\n",
      "0.712271438639\n",
      "5.91752713938\n"
     ]
    }
   ],
   "source": [
    "print nb_10cv_auc.mean()\n",
    "print nb_time\n",
    "print knn_10cv_auc.mean()\n",
    "print knn_time\n",
    "print lg_10cv_auc.mean()\n",
    "print lg_time\n",
    "print tree_10cv_auc.mean()\n",
    "print tree_time\n",
    "print bag_10cv_auc.mean()\n",
    "print bag_time\n",
    "print rf_10cv_auc.mean()\n",
    "print rf_time\n",
    "print svmp_10cv_auc.mean()\n",
    "print svmp_time\n",
    "print svmg_10cv_auc.mean()\n",
    "print svmg_time\n",
    "print ada_10cv_auc.mean() \n",
    "print ada_time"
   ]
  },
  {
   "cell_type": "markdown",
   "metadata": {},
   "source": [
    "> Methods are comparable: AUC~70%.\n",
    "> But there are significant differences when it comes to computation time: KNN and SVM taking the longest."
   ]
  }
 ],
 "metadata": {
  "kernelspec": {
   "display_name": "Python 2",
   "language": "python",
   "name": "python2"
  },
  "language_info": {
   "codemirror_mode": {
    "name": "ipython",
    "version": 2
   },
   "file_extension": ".py",
   "mimetype": "text/x-python",
   "name": "python",
   "nbconvert_exporter": "python",
   "pygments_lexer": "ipython2",
   "version": "2.7.10"
  }
 },
 "nbformat": 4,
 "nbformat_minor": 0
}
