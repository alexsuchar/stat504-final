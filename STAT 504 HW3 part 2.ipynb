{
 "cells": [
  {
   "cell_type": "markdown",
   "metadata": {},
   "source": [
    "#### STAT 504 HW3\n",
    "##### V.A. Suchar\n",
    "##### 12/09/2015"
   ]
  },
  {
   "cell_type": "markdown",
   "metadata": {},
   "source": [
    "> Data Set 2 source: www.webpages.uidaho.edu/~stevel/504/reviews_Musical_Instruments.json"
   ]
  },
  {
   "cell_type": "markdown",
   "metadata": {},
   "source": [
    "> 1. Read data in dataframes"
   ]
  },
  {
   "cell_type": "code",
   "execution_count": 1,
   "metadata": {
    "collapsed": false
   },
   "outputs": [
    {
     "name": "stderr",
     "output_type": "stream",
     "text": [
      "C:\\Users\\vasiles\\AppData\\Local\\Continuum\\Anaconda\\lib\\site-packages\\pandas\\core\\indexing.py:249: SettingWithCopyWarning: \n",
      "A value is trying to be set on a copy of a slice from a DataFrame.\n",
      "Try using .loc[row_indexer,col_indexer] = value instead\n",
      "\n",
      "See the the caveats in the documentation: http://pandas.pydata.org/pandas-docs/stable/indexing.html#indexing-view-versus-copy\n",
      "  self.obj[key] = _infer_fill_value(value)\n",
      "C:\\Users\\vasiles\\AppData\\Local\\Continuum\\Anaconda\\lib\\site-packages\\pandas\\core\\indexing.py:415: SettingWithCopyWarning: \n",
      "A value is trying to be set on a copy of a slice from a DataFrame.\n",
      "Try using .loc[row_indexer,col_indexer] = value instead\n",
      "\n",
      "See the the caveats in the documentation: http://pandas.pydata.org/pandas-docs/stable/indexing.html#indexing-view-versus-copy\n",
      "  self.obj[item] = s\n"
     ]
    },
    {
     "name": "stdout",
     "output_type": "stream",
     "text": [
      "         asin helpful  overall  \\\n",
      "1  0014072149  [0, 0]        5   \n",
      "2  0041291905  [0, 0]        5   \n",
      "3  0041913574  [0, 0]        5   \n",
      "4  0201891859  [0, 1]        1   \n",
      "5  0577088726  [0, 0]        5   \n",
      "\n",
      "                                          reviewText   reviewTime  \\\n",
      "1  If you are a serious violin student on a budge...   06 6, 2013   \n",
      "2  This is and excellent edition and perfectly tr...  10 14, 2013   \n",
      "3  Perfect for someone who is an opera fan or a w...  09 23, 2010   \n",
      "4  How many Nocturnes does it contain? All of the...  10 17, 2012   \n",
      "5  this was written for Carin Levine in 2008, but...  06 14, 2013   \n",
      "\n",
      "       reviewerID           reviewerName                           summary  \\\n",
      "1  A3TS466QBAWB9D          Silver Pencil  Perform it with a friend, today!   \n",
      "2  A3BUDYITWUSIS7  joyce gabriel cornett           Vivalldi's Four Seasons   \n",
      "3  A19K10Z0D2NTZK            TexasCowboy   Full score: voice and orchestra   \n",
      "4  A14X336IB4JD89                 dfjm53      Unable to determine contents   \n",
      "5  A2HR0IL3TC4CKL  scarecrow \"scarecrow\"                   arduous indeed!   \n",
      "\n",
      "   unixReviewTime  rating  \n",
      "1      1370476800       1  \n",
      "2      1381708800       1  \n",
      "3      1285200000       1  \n",
      "4      1350432000       0  \n",
      "5      1371168000       1  \n"
     ]
    }
   ],
   "source": [
    "import pandas as pd\n",
    "import numpy as np\n",
    "# ERIC json import code (THANKS!!!):\n",
    "import urllib\n",
    "import json\n",
    "\n",
    "urllib.urlretrieve('http://www.webpages.uidaho.edu/erichs/music.json', 'C:/Users/vasiles/OneDrive/STAT 504 Python/hw3/music.json')\n",
    "\n",
    "with open('C:/Users/vasiles/OneDrive/STAT 504 Python/hw3/music.json', 'rU') as f:\n",
    "    data = [json.loads(row) for row in f]\n",
    "    df2 = pd.DataFrame(data)\n",
    "\n",
    "df15=df2[(df2.overall==1)|(df2.overall==5)]\n",
    "\n",
    "# Transform 1 star to 0 and 5 star to 1 and add it as rating\n",
    "rating=np.where(df15.overall==5, 1, 0)\n",
    "df15.loc[:,'rating']=pd.Series(rating, index=df15.index)\n",
    "print df15.head()\n"
   ]
  },
  {
   "cell_type": "markdown",
   "metadata": {},
   "source": [
    "> Use a random seed 1234567, split the new DataFrame into training and testing sets, using the review text as the feature and the star rating as the response variable"
   ]
  },
  {
   "cell_type": "code",
   "execution_count": 2,
   "metadata": {
    "collapsed": false
   },
   "outputs": [
    {
     "name": "stdout",
     "output_type": "stream",
     "text": [
      "(98970L,)\n",
      "(32990L,)\n",
      "(98970, 100)\n",
      "(32990, 100)\n"
     ]
    }
   ],
   "source": [
    "from sklearn.cross_validation import train_test_split\n",
    "X_train, X_test, y_train, y_test = train_test_split(df15.reviewText, df15.rating, random_state=1234567)\n",
    "\n",
    "print X_train.shape\n",
    "print X_test.shape\n",
    "\n",
    "from sklearn.feature_extraction.text import CountVectorizer\n",
    "vectorizer = CountVectorizer(max_features=100)\n",
    "train_dtm = vectorizer.fit_transform(X_train)\n",
    "test_dtm = vectorizer.transform(X_test)\n",
    "\n",
    "print train_dtm.shape\n",
    "print test_dtm.shape\n",
    "\n",
    "X = train_dtm\n",
    "y = y_train\n",
    "X_test=test_dtm"
   ]
  },
  {
   "cell_type": "markdown",
   "metadata": {},
   "source": [
    "> 1. Naive Bayes"
   ]
  },
  {
   "cell_type": "code",
   "execution_count": 9,
   "metadata": {
    "collapsed": false
   },
   "outputs": [
    {
     "name": "stdout",
     "output_type": "stream",
     "text": [
      "0.906698999697\n",
      "[ 0.90573853  0.90705193  0.90977975  0.90866842  0.90906335  0.90380924\n",
      "  0.90369846  0.90683104  0.90895311  0.90400162]\n",
      "1.01354987617 seconds process time\n"
     ]
    }
   ],
   "source": [
    "import time\n",
    "# measure process time\n",
    "t0 = time.clock()\n",
    "\n",
    "from sklearn.naive_bayes import MultinomialNB\n",
    "nb= MultinomialNB()\n",
    "X = train_dtm\n",
    "y = y_train\n",
    "X_test=test_dtm\n",
    "nb.fit(X, y)\n",
    "nb_pred_rating = nb.predict(X) # class predictions\n",
    "nb_pred_prob = nb.predict_proba(X)[:, 1]\n",
    "# rating 5 is col 0 rating 1 is col 1\n",
    "y_pred_rating=nb.predict(X_test)\n",
    "from sklearn import metrics\n",
    "print metrics.accuracy_score(y_test, y_pred_rating)\n",
    "# 10 fold cross-validation\n",
    "from sklearn.cross_validation import cross_val_score\n",
    "nb_10cv_auc = cross_val_score(nb, X, y, cv=10, scoring='accuracy')\n",
    "print nb_10cv_auc\n",
    "nb_10cv_auc.mean()\n",
    "\n",
    "print time.clock() - t0, \"seconds process time\"\n",
    "nb_time=time.clock() - t0\n",
    "\n",
    "\n"
   ]
  },
  {
   "cell_type": "markdown",
   "metadata": {},
   "source": [
    "> 2. KNN"
   ]
  },
  {
   "cell_type": "code",
   "execution_count": 11,
   "metadata": {
    "collapsed": false
   },
   "outputs": [
    {
     "ename": "MemoryError",
     "evalue": "",
     "output_type": "error",
     "traceback": [
      "\u001b[1;31m---------------------------------------------------------------------------\u001b[0m",
      "\u001b[1;31mMemoryError\u001b[0m                               Traceback (most recent call last)",
      "\u001b[1;32m<ipython-input-11-cfb26681cc26>\u001b[0m in \u001b[0;36m<module>\u001b[1;34m()\u001b[0m\n\u001b[0;32m      8\u001b[0m \u001b[0mX_test\u001b[0m\u001b[1;33m=\u001b[0m\u001b[0mtest_dtm\u001b[0m\u001b[1;33m\u001b[0m\u001b[0m\n\u001b[0;32m      9\u001b[0m \u001b[0mknn\u001b[0m\u001b[1;33m.\u001b[0m\u001b[0mfit\u001b[0m\u001b[1;33m(\u001b[0m\u001b[0mX\u001b[0m\u001b[1;33m,\u001b[0m \u001b[0my\u001b[0m\u001b[1;33m)\u001b[0m\u001b[1;33m\u001b[0m\u001b[0m\n\u001b[1;32m---> 10\u001b[1;33m \u001b[0mknn_pred_rating\u001b[0m \u001b[1;33m=\u001b[0m \u001b[0mknn\u001b[0m\u001b[1;33m.\u001b[0m\u001b[0mpredict\u001b[0m\u001b[1;33m(\u001b[0m\u001b[0mX\u001b[0m\u001b[1;33m)\u001b[0m \u001b[1;31m# class predictions\u001b[0m\u001b[1;33m\u001b[0m\u001b[0m\n\u001b[0m\u001b[0;32m     11\u001b[0m \u001b[0mknn_pred_prob\u001b[0m \u001b[1;33m=\u001b[0m \u001b[0mknn\u001b[0m\u001b[1;33m.\u001b[0m\u001b[0mpredict_proba\u001b[0m\u001b[1;33m(\u001b[0m\u001b[0mX\u001b[0m\u001b[1;33m)\u001b[0m\u001b[1;33m[\u001b[0m\u001b[1;33m:\u001b[0m\u001b[1;33m,\u001b[0m \u001b[1;36m1\u001b[0m\u001b[1;33m]\u001b[0m\u001b[1;33m\u001b[0m\u001b[0m\n\u001b[0;32m     12\u001b[0m \u001b[1;33m\u001b[0m\u001b[0m\n",
      "\u001b[1;32mC:\\Users\\vasiles\\AppData\\Local\\Continuum\\Anaconda\\lib\\site-packages\\sklearn\\neighbors\\classification.pyc\u001b[0m in \u001b[0;36mpredict\u001b[1;34m(self, X)\u001b[0m\n\u001b[0;32m    136\u001b[0m         \u001b[0mX\u001b[0m \u001b[1;33m=\u001b[0m \u001b[0mcheck_array\u001b[0m\u001b[1;33m(\u001b[0m\u001b[0mX\u001b[0m\u001b[1;33m,\u001b[0m \u001b[0maccept_sparse\u001b[0m\u001b[1;33m=\u001b[0m\u001b[1;34m'csr'\u001b[0m\u001b[1;33m)\u001b[0m\u001b[1;33m\u001b[0m\u001b[0m\n\u001b[0;32m    137\u001b[0m \u001b[1;33m\u001b[0m\u001b[0m\n\u001b[1;32m--> 138\u001b[1;33m         \u001b[0mneigh_dist\u001b[0m\u001b[1;33m,\u001b[0m \u001b[0mneigh_ind\u001b[0m \u001b[1;33m=\u001b[0m \u001b[0mself\u001b[0m\u001b[1;33m.\u001b[0m\u001b[0mkneighbors\u001b[0m\u001b[1;33m(\u001b[0m\u001b[0mX\u001b[0m\u001b[1;33m)\u001b[0m\u001b[1;33m\u001b[0m\u001b[0m\n\u001b[0m\u001b[0;32m    139\u001b[0m \u001b[1;33m\u001b[0m\u001b[0m\n\u001b[0;32m    140\u001b[0m         \u001b[0mclasses_\u001b[0m \u001b[1;33m=\u001b[0m \u001b[0mself\u001b[0m\u001b[1;33m.\u001b[0m\u001b[0mclasses_\u001b[0m\u001b[1;33m\u001b[0m\u001b[0m\n",
      "\u001b[1;32mC:\\Users\\vasiles\\AppData\\Local\\Continuum\\Anaconda\\lib\\site-packages\\sklearn\\neighbors\\base.pyc\u001b[0m in \u001b[0;36mkneighbors\u001b[1;34m(self, X, n_neighbors, return_distance)\u001b[0m\n\u001b[0;32m    346\u001b[0m             \u001b[1;32mif\u001b[0m \u001b[0mself\u001b[0m\u001b[1;33m.\u001b[0m\u001b[0meffective_metric_\u001b[0m \u001b[1;33m==\u001b[0m \u001b[1;34m'euclidean'\u001b[0m\u001b[1;33m:\u001b[0m\u001b[1;33m\u001b[0m\u001b[0m\n\u001b[0;32m    347\u001b[0m                 dist = pairwise_distances(X, self._fit_X, 'euclidean',\n\u001b[1;32m--> 348\u001b[1;33m                                           squared=True)\n\u001b[0m\u001b[0;32m    349\u001b[0m             \u001b[1;32melse\u001b[0m\u001b[1;33m:\u001b[0m\u001b[1;33m\u001b[0m\u001b[0m\n\u001b[0;32m    350\u001b[0m                 dist = pairwise_distances(X, self._fit_X,\n",
      "\u001b[1;32mC:\\Users\\vasiles\\AppData\\Local\\Continuum\\Anaconda\\lib\\site-packages\\sklearn\\metrics\\pairwise.pyc\u001b[0m in \u001b[0;36mpairwise_distances\u001b[1;34m(X, Y, metric, n_jobs, **kwds)\u001b[0m\n\u001b[0;32m   1108\u001b[0m         \u001b[0mfunc\u001b[0m \u001b[1;33m=\u001b[0m \u001b[0mpartial\u001b[0m\u001b[1;33m(\u001b[0m\u001b[0mdistance\u001b[0m\u001b[1;33m.\u001b[0m\u001b[0mcdist\u001b[0m\u001b[1;33m,\u001b[0m \u001b[0mmetric\u001b[0m\u001b[1;33m=\u001b[0m\u001b[0mmetric\u001b[0m\u001b[1;33m,\u001b[0m \u001b[1;33m**\u001b[0m\u001b[0mkwds\u001b[0m\u001b[1;33m)\u001b[0m\u001b[1;33m\u001b[0m\u001b[0m\n\u001b[0;32m   1109\u001b[0m \u001b[1;33m\u001b[0m\u001b[0m\n\u001b[1;32m-> 1110\u001b[1;33m     \u001b[1;32mreturn\u001b[0m \u001b[0m_parallel_pairwise\u001b[0m\u001b[1;33m(\u001b[0m\u001b[0mX\u001b[0m\u001b[1;33m,\u001b[0m \u001b[0mY\u001b[0m\u001b[1;33m,\u001b[0m \u001b[0mfunc\u001b[0m\u001b[1;33m,\u001b[0m \u001b[0mn_jobs\u001b[0m\u001b[1;33m,\u001b[0m \u001b[1;33m**\u001b[0m\u001b[0mkwds\u001b[0m\u001b[1;33m)\u001b[0m\u001b[1;33m\u001b[0m\u001b[0m\n\u001b[0m\u001b[0;32m   1111\u001b[0m \u001b[1;33m\u001b[0m\u001b[0m\n\u001b[0;32m   1112\u001b[0m \u001b[1;33m\u001b[0m\u001b[0m\n",
      "\u001b[1;32mC:\\Users\\vasiles\\AppData\\Local\\Continuum\\Anaconda\\lib\\site-packages\\sklearn\\metrics\\pairwise.pyc\u001b[0m in \u001b[0;36m_parallel_pairwise\u001b[1;34m(X, Y, func, n_jobs, **kwds)\u001b[0m\n\u001b[0;32m    958\u001b[0m     \u001b[1;32mif\u001b[0m \u001b[0mn_jobs\u001b[0m \u001b[1;33m==\u001b[0m \u001b[1;36m1\u001b[0m\u001b[1;33m:\u001b[0m\u001b[1;33m\u001b[0m\u001b[0m\n\u001b[0;32m    959\u001b[0m         \u001b[1;31m# Special case to avoid picklability checks in delayed\u001b[0m\u001b[1;33m\u001b[0m\u001b[1;33m\u001b[0m\u001b[0m\n\u001b[1;32m--> 960\u001b[1;33m         \u001b[1;32mreturn\u001b[0m \u001b[0mfunc\u001b[0m\u001b[1;33m(\u001b[0m\u001b[0mX\u001b[0m\u001b[1;33m,\u001b[0m \u001b[0mY\u001b[0m\u001b[1;33m,\u001b[0m \u001b[1;33m**\u001b[0m\u001b[0mkwds\u001b[0m\u001b[1;33m)\u001b[0m\u001b[1;33m\u001b[0m\u001b[0m\n\u001b[0m\u001b[0;32m    961\u001b[0m \u001b[1;33m\u001b[0m\u001b[0m\n\u001b[0;32m    962\u001b[0m     \u001b[1;31m# TODO: in some cases, backend='threading' may be appropriate\u001b[0m\u001b[1;33m\u001b[0m\u001b[1;33m\u001b[0m\u001b[0m\n",
      "\u001b[1;32mC:\\Users\\vasiles\\AppData\\Local\\Continuum\\Anaconda\\lib\\site-packages\\sklearn\\metrics\\pairwise.pyc\u001b[0m in \u001b[0;36meuclidean_distances\u001b[1;34m(X, Y, Y_norm_squared, squared)\u001b[0m\n\u001b[0;32m    205\u001b[0m         \u001b[0mXX\u001b[0m \u001b[1;33m=\u001b[0m \u001b[0mrow_norms\u001b[0m\u001b[1;33m(\u001b[0m\u001b[0mX\u001b[0m\u001b[1;33m,\u001b[0m \u001b[0msquared\u001b[0m\u001b[1;33m=\u001b[0m\u001b[0mTrue\u001b[0m\u001b[1;33m)\u001b[0m\u001b[1;33m[\u001b[0m\u001b[1;33m:\u001b[0m\u001b[1;33m,\u001b[0m \u001b[0mnp\u001b[0m\u001b[1;33m.\u001b[0m\u001b[0mnewaxis\u001b[0m\u001b[1;33m]\u001b[0m\u001b[1;33m\u001b[0m\u001b[0m\n\u001b[0;32m    206\u001b[0m \u001b[1;33m\u001b[0m\u001b[0m\n\u001b[1;32m--> 207\u001b[1;33m     \u001b[0mdistances\u001b[0m \u001b[1;33m=\u001b[0m \u001b[0msafe_sparse_dot\u001b[0m\u001b[1;33m(\u001b[0m\u001b[0mX\u001b[0m\u001b[1;33m,\u001b[0m \u001b[0mY\u001b[0m\u001b[1;33m.\u001b[0m\u001b[0mT\u001b[0m\u001b[1;33m,\u001b[0m \u001b[0mdense_output\u001b[0m\u001b[1;33m=\u001b[0m\u001b[0mTrue\u001b[0m\u001b[1;33m)\u001b[0m\u001b[1;33m\u001b[0m\u001b[0m\n\u001b[0m\u001b[0;32m    208\u001b[0m     \u001b[0mdistances\u001b[0m \u001b[1;33m*=\u001b[0m \u001b[1;33m-\u001b[0m\u001b[1;36m2\u001b[0m\u001b[1;33m\u001b[0m\u001b[0m\n\u001b[0;32m    209\u001b[0m     \u001b[0mdistances\u001b[0m \u001b[1;33m+=\u001b[0m \u001b[0mXX\u001b[0m\u001b[1;33m\u001b[0m\u001b[0m\n",
      "\u001b[1;32mC:\\Users\\vasiles\\AppData\\Local\\Continuum\\Anaconda\\lib\\site-packages\\sklearn\\utils\\extmath.pyc\u001b[0m in \u001b[0;36msafe_sparse_dot\u001b[1;34m(a, b, dense_output)\u001b[0m\n\u001b[0;32m    176\u001b[0m     \"\"\"\n\u001b[0;32m    177\u001b[0m     \u001b[1;32mif\u001b[0m \u001b[0missparse\u001b[0m\u001b[1;33m(\u001b[0m\u001b[0ma\u001b[0m\u001b[1;33m)\u001b[0m \u001b[1;32mor\u001b[0m \u001b[0missparse\u001b[0m\u001b[1;33m(\u001b[0m\u001b[0mb\u001b[0m\u001b[1;33m)\u001b[0m\u001b[1;33m:\u001b[0m\u001b[1;33m\u001b[0m\u001b[0m\n\u001b[1;32m--> 178\u001b[1;33m         \u001b[0mret\u001b[0m \u001b[1;33m=\u001b[0m \u001b[0ma\u001b[0m \u001b[1;33m*\u001b[0m \u001b[0mb\u001b[0m\u001b[1;33m\u001b[0m\u001b[0m\n\u001b[0m\u001b[0;32m    179\u001b[0m         \u001b[1;32mif\u001b[0m \u001b[0mdense_output\u001b[0m \u001b[1;32mand\u001b[0m \u001b[0mhasattr\u001b[0m\u001b[1;33m(\u001b[0m\u001b[0mret\u001b[0m\u001b[1;33m,\u001b[0m \u001b[1;34m\"toarray\"\u001b[0m\u001b[1;33m)\u001b[0m\u001b[1;33m:\u001b[0m\u001b[1;33m\u001b[0m\u001b[0m\n\u001b[0;32m    180\u001b[0m             \u001b[0mret\u001b[0m \u001b[1;33m=\u001b[0m \u001b[0mret\u001b[0m\u001b[1;33m.\u001b[0m\u001b[0mtoarray\u001b[0m\u001b[1;33m(\u001b[0m\u001b[1;33m)\u001b[0m\u001b[1;33m\u001b[0m\u001b[0m\n",
      "\u001b[1;32mC:\\Users\\vasiles\\AppData\\Local\\Continuum\\Anaconda\\lib\\site-packages\\scipy\\sparse\\base.pyc\u001b[0m in \u001b[0;36m__mul__\u001b[1;34m(self, other)\u001b[0m\n\u001b[0;32m    307\u001b[0m             \u001b[1;32mif\u001b[0m \u001b[0mself\u001b[0m\u001b[1;33m.\u001b[0m\u001b[0mshape\u001b[0m\u001b[1;33m[\u001b[0m\u001b[1;36m1\u001b[0m\u001b[1;33m]\u001b[0m \u001b[1;33m!=\u001b[0m \u001b[0mother\u001b[0m\u001b[1;33m.\u001b[0m\u001b[0mshape\u001b[0m\u001b[1;33m[\u001b[0m\u001b[1;36m0\u001b[0m\u001b[1;33m]\u001b[0m\u001b[1;33m:\u001b[0m\u001b[1;33m\u001b[0m\u001b[0m\n\u001b[0;32m    308\u001b[0m                 \u001b[1;32mraise\u001b[0m \u001b[0mValueError\u001b[0m\u001b[1;33m(\u001b[0m\u001b[1;34m'dimension mismatch'\u001b[0m\u001b[1;33m)\u001b[0m\u001b[1;33m\u001b[0m\u001b[0m\n\u001b[1;32m--> 309\u001b[1;33m             \u001b[1;32mreturn\u001b[0m \u001b[0mself\u001b[0m\u001b[1;33m.\u001b[0m\u001b[0m_mul_sparse_matrix\u001b[0m\u001b[1;33m(\u001b[0m\u001b[0mother\u001b[0m\u001b[1;33m)\u001b[0m\u001b[1;33m\u001b[0m\u001b[0m\n\u001b[0m\u001b[0;32m    310\u001b[0m \u001b[1;33m\u001b[0m\u001b[0m\n\u001b[0;32m    311\u001b[0m         \u001b[1;32mtry\u001b[0m\u001b[1;33m:\u001b[0m\u001b[1;33m\u001b[0m\u001b[0m\n",
      "\u001b[1;32mC:\\Users\\vasiles\\AppData\\Local\\Continuum\\Anaconda\\lib\\site-packages\\scipy\\sparse\\compressed.pyc\u001b[0m in \u001b[0;36m_mul_sparse_matrix\u001b[1;34m(self, other)\u001b[0m\n\u001b[0;32m    496\u001b[0m                                     maxval=nnz)\n\u001b[0;32m    497\u001b[0m         \u001b[0mindptr\u001b[0m \u001b[1;33m=\u001b[0m \u001b[0mnp\u001b[0m\u001b[1;33m.\u001b[0m\u001b[0masarray\u001b[0m\u001b[1;33m(\u001b[0m\u001b[0mindptr\u001b[0m\u001b[1;33m,\u001b[0m \u001b[0mdtype\u001b[0m\u001b[1;33m=\u001b[0m\u001b[0midx_dtype\u001b[0m\u001b[1;33m)\u001b[0m\u001b[1;33m\u001b[0m\u001b[0m\n\u001b[1;32m--> 498\u001b[1;33m         \u001b[0mindices\u001b[0m \u001b[1;33m=\u001b[0m \u001b[0mnp\u001b[0m\u001b[1;33m.\u001b[0m\u001b[0mempty\u001b[0m\u001b[1;33m(\u001b[0m\u001b[0mnnz\u001b[0m\u001b[1;33m,\u001b[0m \u001b[0mdtype\u001b[0m\u001b[1;33m=\u001b[0m\u001b[0midx_dtype\u001b[0m\u001b[1;33m)\u001b[0m\u001b[1;33m\u001b[0m\u001b[0m\n\u001b[0m\u001b[0;32m    499\u001b[0m         \u001b[0mdata\u001b[0m \u001b[1;33m=\u001b[0m \u001b[0mnp\u001b[0m\u001b[1;33m.\u001b[0m\u001b[0mempty\u001b[0m\u001b[1;33m(\u001b[0m\u001b[0mnnz\u001b[0m\u001b[1;33m,\u001b[0m \u001b[0mdtype\u001b[0m\u001b[1;33m=\u001b[0m\u001b[0mupcast\u001b[0m\u001b[1;33m(\u001b[0m\u001b[0mself\u001b[0m\u001b[1;33m.\u001b[0m\u001b[0mdtype\u001b[0m\u001b[1;33m,\u001b[0m \u001b[0mother\u001b[0m\u001b[1;33m.\u001b[0m\u001b[0mdtype\u001b[0m\u001b[1;33m)\u001b[0m\u001b[1;33m)\u001b[0m\u001b[1;33m\u001b[0m\u001b[0m\n\u001b[0;32m    500\u001b[0m \u001b[1;33m\u001b[0m\u001b[0m\n",
      "\u001b[1;31mMemoryError\u001b[0m: "
     ]
    }
   ],
   "source": [
    "# measure process time\n",
    "t0 = time.clock()\n",
    "\n",
    "from sklearn.neighbors import KNeighborsClassifier\n",
    "knn = KNeighborsClassifier(n_neighbors=1)\n",
    "X = train_dtm\n",
    "y = y_train\n",
    "X_test=test_dtm\n",
    "knn.fit(X, y)\n",
    "knn_pred_rating = knn.predict(X) # class predictions\n",
    "knn_pred_prob = knn.predict_proba(X)[:, 1]\n",
    "\n",
    "y_pred_rating=knn.predict(X_test)\n",
    "from sklearn import metrics\n",
    "print metrics.accuracy_score(y_test, y_pred_rating)\n",
    "# 10 fold cross-validation\n",
    "from sklearn.cross_validation import cross_val_score\n",
    "knn_10cv_auc = cross_val_score(knn, X, y, cv=10, scoring='accuracy')\n",
    "print knn_10cv_auc\n",
    "print knn_10cv_auc.mean()\n",
    "\n",
    "print time.clock() - t0, \"seconds process time\"\n",
    "knn_time=time.clock() - t0"
   ]
  },
  {
   "cell_type": "markdown",
   "metadata": {},
   "source": [
    "> 3. Logistic Regression"
   ]
  },
  {
   "cell_type": "code",
   "execution_count": 10,
   "metadata": {
    "collapsed": false
   },
   "outputs": [
    {
     "name": "stdout",
     "output_type": "stream",
     "text": [
      "0.921370112155\n",
      "[ 0.9165488   0.91806426  0.92200445  0.92038796  0.91866222  0.91947055\n",
      "  0.91693614  0.91915926  0.92027082  0.91814875]\n",
      "0.918965317869\n",
      "12.0785664607 seconds process time\n"
     ]
    }
   ],
   "source": [
    "t0 = time.clock()\n",
    "\n",
    "from sklearn.linear_model import LogisticRegression\n",
    "logreg = LogisticRegression(C=1e9)\n",
    "X = train_dtm\n",
    "y = y_train\n",
    "X_test=test_dtm\n",
    "logreg.fit(X, y)\n",
    "lg_pred_rating = logreg.predict(X) # class predictions\n",
    "\n",
    "# store the predicted probabilites of class 1\n",
    "lg_pred_prob = logreg.predict_proba(X)[:, 1]\n",
    "\n",
    "y_pred_rating=logreg.predict(X_test)\n",
    "from sklearn import metrics\n",
    "print metrics.accuracy_score(y_test, y_pred_rating)\n",
    "# 10 fold cross-validation\n",
    "from sklearn.cross_validation import cross_val_score\n",
    "lg_10cv_auc = cross_val_score(logreg, X, y, cv=10, scoring='accuracy')\n",
    "print lg_10cv_auc\n",
    "print lg_10cv_auc.mean()\n",
    "\n",
    "\n",
    "print time.clock() - t0, \"seconds process time\"\n",
    "lg_time=time.clock() - t0"
   ]
  },
  {
   "cell_type": "markdown",
   "metadata": {},
   "source": [
    "> 4. SVM Polynomial"
   ]
  },
  {
   "cell_type": "code",
   "execution_count": 13,
   "metadata": {
    "collapsed": false
   },
   "outputs": [
    {
     "name": "stdout",
     "output_type": "stream",
     "text": [
      "[ 0.90725399  0.90887048  0.91149727  0.91079006  0.90876023  0.9096696\n",
      "  0.90854891  0.90885206  0.90864996  0.90966047]\n",
      "0.909255302613\n",
      "25855.3042958 seconds process time\n"
     ]
    }
   ],
   "source": [
    "t0 = time.clock()\n",
    "\n",
    "from sklearn import svm\n",
    "svmp = svm.SVC(kernel='poly', C = 1.0, degree=3)\n",
    "X = train_dtm\n",
    "y = y_train\n",
    "X_test=test_dtm\n",
    "svmp.fit(X,y)\n",
    "from sklearn.cross_validation import cross_val_score\n",
    "svmp_10cv_auc = cross_val_score(svmp, X, y, cv=10, scoring='accuracy')\n",
    "print svmp_10cv_auc\n",
    "print svmp_10cv_auc.mean()\n",
    "\n",
    "\n",
    "print time.clock() - t0, \"seconds process time\"\n",
    "svmp_time=time.clock() - t0"
   ]
  },
  {
   "cell_type": "markdown",
   "metadata": {},
   "source": [
    "> 5. SVM Gaussian"
   ]
  },
  {
   "cell_type": "code",
   "execution_count": null,
   "metadata": {
    "collapsed": false
   },
   "outputs": [],
   "source": [
    "# measure process time\n",
    "t0 = time.clock()\n",
    "\n",
    "from sklearn import svm\n",
    "svmg = svm.SVC(kernel='rbf', C = 1.0, gamma=1)\n",
    "X = train_dtm\n",
    "y = y_train\n",
    "X_test=test_dtm\n",
    "svmg.fit(X,y)\n",
    "from sklearn.cross_validation import cross_val_score\n",
    "svmg_10cv_auc = cross_val_score(svmg, X, y, cv=10, scoring='accuracy')\n",
    "print svmg_10cv_auc\n",
    "print svmg_10cv_auc.mean()\n",
    "\n",
    "\n",
    "print time.clock() - t0, \"seconds process time\"\n",
    "svmg_time=time.clock() - t0"
   ]
  },
  {
   "cell_type": "markdown",
   "metadata": {},
   "source": [
    "> 6. Tree"
   ]
  },
  {
   "cell_type": "code",
   "execution_count": 3,
   "metadata": {
    "collapsed": false
   },
   "outputs": [
    {
     "name": "stdout",
     "output_type": "stream",
     "text": [
      "[ 0.90674884  0.90674884  0.90674884  0.90674884  0.90684046  0.90684046\n",
      "  0.90683104  0.90683104  0.90683104  0.90683104]\n",
      "0.906800043739\n",
      "4.12984993619 seconds process time\n"
     ]
    }
   ],
   "source": [
    "import time\n",
    "# measure process time\n",
    "t0 = time.clock()\n",
    "\n",
    "from sklearn.tree import DecisionTreeClassifier\n",
    "tree = DecisionTreeClassifier(max_depth=3, random_state=1)\n",
    "X = train_dtm\n",
    "y = y_train\n",
    "X_test=test_dtm\n",
    "tree.fit(X,y)\n",
    "from sklearn.cross_validation import cross_val_score\n",
    "tree_10cv_auc = cross_val_score(tree, X, y, cv=10, scoring='accuracy')\n",
    "print tree_10cv_auc\n",
    "print tree_10cv_auc.mean()\n",
    "\n",
    "\n",
    "print time.clock() - t0, \"seconds process time\"\n",
    "tree_time=time.clock() - t0"
   ]
  },
  {
   "cell_type": "markdown",
   "metadata": {},
   "source": [
    "> 7. Bagging"
   ]
  },
  {
   "cell_type": "code",
   "execution_count": 4,
   "metadata": {
    "collapsed": false
   },
   "outputs": [
    {
     "name": "stdout",
     "output_type": "stream",
     "text": [
      "[ 0.90674884  0.90674884  0.90674884  0.90674884  0.90684046  0.90684046\n",
      "  0.90683104  0.90683104  0.90683104  0.90683104]\n",
      "0.906800043739\n",
      "31.0769713988 seconds process time\n"
     ]
    }
   ],
   "source": [
    "# measure process time\n",
    "t0 = time.clock()\n",
    "\n",
    "from sklearn.ensemble import BaggingClassifier\n",
    "bag=BaggingClassifier(tree,n_estimators=10, random_state=1)\n",
    "X = train_dtm\n",
    "y = y_train\n",
    "X_test=test_dtm\n",
    "bag.fit(X,y)\n",
    "from sklearn.cross_validation import cross_val_score\n",
    "bag_10cv_auc = cross_val_score(bag, X, y, cv=10, scoring='accuracy')\n",
    "print bag_10cv_auc\n",
    "print bag_10cv_auc.mean()\n",
    "\n",
    "\n",
    "print time.clock() - t0, \"seconds process time\"\n",
    "bag_time=time.clock() - t0"
   ]
  },
  {
   "cell_type": "markdown",
   "metadata": {},
   "source": [
    "> 8. Random Forest "
   ]
  },
  {
   "cell_type": "code",
   "execution_count": 5,
   "metadata": {
    "collapsed": false
   },
   "outputs": [
    {
     "name": "stdout",
     "output_type": "stream",
     "text": [
      "[ 0.90977975  0.91230552  0.91270964  0.913922    0.90956856  0.91462059\n",
      "  0.91026677  0.91299515  0.91137833  0.91188359]\n",
      "0.911942990875\n",
      "166.15334148 seconds process time\n"
     ]
    }
   ],
   "source": [
    "# measure process time\n",
    "t0 = time.clock()\n",
    "\n",
    "from sklearn.ensemble import RandomForestClassifier\n",
    "rf = RandomForestClassifier(n_estimators=10, random_state=1)\n",
    "X = train_dtm\n",
    "y = y_train\n",
    "X_test=test_dtm\n",
    "rf.fit(X,y)\n",
    "from sklearn.cross_validation import cross_val_score\n",
    "rf_10cv_auc = cross_val_score(rf, X, y, cv=10, scoring='accuracy')\n",
    "print rf_10cv_auc\n",
    "print rf_10cv_auc.mean()\n",
    "\n",
    "\n",
    "print time.clock() - t0, \"seconds process time\"\n",
    "rf_time=time.clock() - t0"
   ]
  },
  {
   "cell_type": "markdown",
   "metadata": {},
   "source": [
    "> 9. Noisy replication : STILL NOT WORKING"
   ]
  },
  {
   "cell_type": "code",
   "execution_count": null,
   "metadata": {
    "collapsed": false
   },
   "outputs": [],
   "source": [
    "# set a seed for reproducibility\n",
    "np.random.seed(1234567)\n",
    "# create five bootstrap samples (will be used to select rows from the DataFrame)\n",
    "samples = [np.random.choice(a=16029, size=16029, replace=True) for _ in range(1, 6)]\n",
    "samples\n",
    "X_train.iloc[samples[0],:]\n",
    "\n",
    "from sklearn.tree import DecisionTreeClassifier\n",
    "tree2 = DecisionTreeClassifier(max_depth=3, random_state=1)\n",
    "# list for storing predicted price from each tree\n",
    "predictions = []\n",
    "# grow one tree for each bootstrap sample and make predictions on testing data\n",
    "for sample in samples:\n",
    "    X_train_new = X_train.iloc[sample[0],:]\n",
    "    y_train_new = y_train.iloc[sample[0]]\n",
    "    tree2.fit(X_train_new, y_train_new)\n",
    "    y_pred = tree2.predict(X_test)\n",
    "    predictions.append(y_pred)\n",
    "\n",
    "# convert predictions from list to NumPy array\n",
    "predictions = np.array(predictions)\n",
    "predictions\n",
    "\n",
    "# INCOMPLETE?NOT WORKING!!!!!!!!!!!"
   ]
  },
  {
   "cell_type": "markdown",
   "metadata": {},
   "source": [
    "> 10. AdaBoost classifier\n",
    ">\n",
    "> An AdaBoost classifier is a meta-estimator that begins by fitting a classifier\n",
    "> on the original dataset and then fits additional copies of the classifier on \n",
    "> the same dataset but where the weights of incorrectly classified instances are \n",
    "> adjusted such that subsequent classifiers focus more on difficult cases\n",
    "> measure process time"
   ]
  },
  {
   "cell_type": "code",
   "execution_count": 6,
   "metadata": {
    "collapsed": false
   },
   "outputs": [
    {
     "name": "stdout",
     "output_type": "stream",
     "text": [
      "[ 0.9082643   0.90897151  0.90957769  0.90856739  0.90896231  0.90987168\n",
      "  0.90945837  0.90844786  0.90844786  0.90945837]\n",
      "0.90900273246\n",
      "16.5270943188 seconds process time\n"
     ]
    }
   ],
   "source": [
    "t0 = time.clock()\n",
    "\n",
    "from sklearn.ensemble import AdaBoostClassifier\n",
    "ada = AdaBoostClassifier(n_estimators=10, random_state=1)\n",
    "X = train_dtm\n",
    "y = y_train\n",
    "X_test=test_dtm\n",
    "ada.fit(X,y)\n",
    "from sklearn.cross_validation import cross_val_score\n",
    "ada_10cv_auc = cross_val_score(ada, X, y, cv=10, scoring='accuracy')\n",
    "print ada_10cv_auc\n",
    "print ada_10cv_auc.mean()\n",
    "\n",
    "\n",
    "print time.clock() - t0, \"seconds process time\"\n",
    "ada_time=time.clock() - t0"
   ]
  },
  {
   "cell_type": "markdown",
   "metadata": {},
   "source": [
    "> PLOTS"
   ]
  },
  {
   "cell_type": "code",
   "execution_count": 13,
   "metadata": {
    "collapsed": false
   },
   "outputs": [
    {
     "name": "stdout",
     "output_type": "stream",
     "text": [
      "0.410918929558 seconds process time\n"
     ]
    }
   ],
   "source": [
    "t0 = time.clock()\n",
    "\n",
    "import matplotlib.patches as mpatches\n",
    "import matplotlib.pyplot as plt\n",
    "\n",
    "X = train_dtm\n",
    "y = y_train\n",
    "X_test=test_dtm\n",
    "\n",
    "# NB:\n",
    "y_pred_prob = nb.predict_proba(X_test)[:, 1]\n",
    "nb_auc=metrics.roc_auc_score(y_test, y_pred_prob)\n",
    "#print metrics.roc_auc_score(y_test, y_pred_prob)\n",
    "nb_fpr, nb_tpr, nb_thresholds = metrics.roc_curve(y_test, y_pred_prob)\n",
    "# KNN: ERROR!!!!!\n",
    "#y_pred_prob = knn.predict_proba(X_test)[:, 1]\n",
    "#knn_auc=metrics.roc_auc_score(y_test, y_pred_prob)\n",
    "#print metrics.roc_auc_score(y_test, y_pred_prob)\n",
    "knn_fpr, knn_tpr, knn_thresholds = metrics.roc_curve(y_test, y_pred_prob)\n",
    "# LG:\n",
    "y_pred_prob = logreg.predict_proba(X_test)[:, 1]\n",
    "logreg_auc=metrics.roc_auc_score(y_test, y_pred_prob)\n",
    "#print metrics.roc_auc_score(y_test, y_pred_prob)\n",
    "lg_fpr, lg_tpr, lg_thresholds = metrics.roc_curve(y_test, y_pred_prob)\n",
    "#TREE:\n",
    "y_pred_prob = tree.predict_proba(X_test)[:, 1]\n",
    "tree_auc=metrics.roc_auc_score(y_test, y_pred_prob)\n",
    "#print metrics.roc_auc_score(y_test, y_pred_prob)\n",
    "tree_fpr, tree_tpr, tree_thresholds = metrics.roc_curve(y_test, y_pred_prob)\n",
    "# BAG:\n",
    "y_pred_prob = bag.predict_proba(X_test)[:, 1]\n",
    "bag_auc=metrics.roc_auc_score(y_test, y_pred_prob)\n",
    "#print metrics.roc_auc_score(y_test, y_pred_prob)\n",
    "bag_fpr, bag_tpr, bag_thresholds = metrics.roc_curve(y_test, y_pred_prob)\n",
    "# RF:\n",
    "y_pred_prob = rf.predict_proba(X_test)[:, 1]\n",
    "rf_auc=metrics.roc_auc_score(y_test, y_pred_prob)\n",
    "#print metrics.roc_auc_score(y_test, y_pred_prob)\n",
    "rf_fpr, rf_tpr, rf_thresholds = metrics.roc_curve(y_test, y_pred_prob)\n",
    "# ADA:\n",
    "y_pred_prob = ada.predict_proba(X_test)[:, 1]\n",
    "ada_auc=metrics.roc_auc_score(y_test, y_pred_prob)\n",
    "#print metrics.roc_auc_score(y_test, y_pred_prob)\n",
    "ada_fpr, ada_tpr, ada_thresholds = metrics.roc_curve(y_test, y_pred_prob)\n",
    "\n",
    "print time.clock() - t0, \"seconds process time\"\n",
    "plot_time=time.clock() - t0"
   ]
  },
  {
   "cell_type": "code",
   "execution_count": 15,
   "metadata": {
    "collapsed": false
   },
   "outputs": [
    {
     "data": {
      "image/png": "[encoded data removed]",
      "text/plain": [
       "<matplotlib.figure.Figure at 0x4d04d898>"
      ]
     },
     "metadata": {},
     "output_type": "display_data"
    }
   ],
   "source": [
    "# NOTE : replaced knnwith ada in the original code since knn is not working\n",
    "%matplotlib inline\n",
    "plt.plot(nb_fpr, nb_tpr, ada_fpr, ada_tpr, lg_fpr, lg_tpr, tree_fpr, tree_tpr, bag_fpr, bag_tpr, rf_fpr, rf_tpr, linewidth=2.0)\n",
    "plt.xlim([0.0, 1.0])\n",
    "plt.ylim([0.0, 1.0])\n",
    "plt.title('ROC Curves')\n",
    "plt.xlabel('False Positive Rate (1 - Specificity)')\n",
    "plt.ylabel('True Positive Rate (Sensitivity)')\n",
    "nb = mpatches.Patch(color='blue', label='nb')\n",
    "ada= mpatches.Patch(color='green', label='ada')\n",
    "lg = mpatches.Patch(color='red', label='lg')\n",
    "tree = mpatches.Patch(color='cyan', label='tree')\n",
    "bag = mpatches.Patch(color='magenta', label='bag')\n",
    "rf = mpatches.Patch(color='yellow', label='rf')\n",
    "#ada= mpatches.Patch(color='black', label='ada')\n",
    "plt.legend(handles=[nb,ada,lg,tree,bag,rf], loc=4)\n",
    "plt.grid(True)"
   ]
  },
  {
   "cell_type": "markdown",
   "metadata": {},
   "source": [
    "> Tabulate the 10cv_auc.means"
   ]
  },
  {
   "cell_type": "code",
   "execution_count": 18,
   "metadata": {
    "collapsed": false
   },
   "outputs": [
    {
     "name": "stdout",
     "output_type": "stream",
     "text": [
      "NB 10CV AUC.mean & process time\n",
      "0.906759545778\n",
      "1.01360904198\n",
      "LG 10CV AUC.mean & process time\n",
      "0.918965317869\n",
      "12.0786168724\n",
      "TREE 10CV AUC.mean & process time\n",
      "0.906800043739\n",
      "4.1299081964\n",
      "BAG 10CV AUC.mean & process time\n",
      "0.906800043739\n",
      "31.0770299608\n",
      "RF 10CV AUC.mean & process time\n",
      "0.911942990875\n",
      "166.153396419\n",
      "SVMP 10CV AUC.mean & process time\n",
      "0.909255302613\n",
      "25855.3042958\n",
      "ADA 10CV AUC.mean & process time\n",
      "0.90900273246\n",
      "16.5271537864\n"
     ]
    }
   ],
   "source": [
    "print 'NB 10CV AUC.mean & process time'\n",
    "print nb_10cv_auc.mean()\n",
    "print nb_time\n",
    "#print 'KNN 10CV AUC.mean & process time'\n",
    "#print knn_10cv_auc.mean()\n",
    "#print knn_time\n",
    "print 'LG 10CV AUC.mean & process time'\n",
    "print lg_10cv_auc.mean()\n",
    "print lg_time\n",
    "print 'TREE 10CV AUC.mean & process time'\n",
    "print tree_10cv_auc.mean()\n",
    "print tree_time\n",
    "print 'BAG 10CV AUC.mean & process time'\n",
    "print bag_10cv_auc.mean()\n",
    "print bag_time\n",
    "print 'RF 10CV AUC.mean & process time'\n",
    "print rf_10cv_auc.mean()\n",
    "print rf_time\n",
    "print 'SVMP 10CV AUC.mean & process time'\n",
    "print '0.909255302613'\n",
    "\n",
    "print '25855.3042958'\n",
    "#print 'SVMG 10CV AUC.mean & process time'\n",
    "#print svmg_10cv_auc.mean()\n",
    "#print svmg_time\n",
    "print 'ADA 10CV AUC.mean & process time'\n",
    "print ada_10cv_auc.mean() \n",
    "print ada_time"
   ]
  },
  {
   "cell_type": "markdown",
   "metadata": {},
   "source": [
    "> Methods are comparable: AUC~90%.\n",
    "> But there are significant differences when it comes to computation time: SVM taking the longest. KNN gives a memory error. SVM Gaussian is still running...."
   ]
  },
  {
   "cell_type": "code",
   "execution_count": null,
   "metadata": {
    "collapsed": true
   },
   "outputs": [],
   "source": []
  }
 ],
 "metadata": {
  "kernelspec": {
   "display_name": "Python 2",
   "language": "python",
   "name": "python2"
  },
  "language_info": {
   "codemirror_mode": {
    "name": "ipython",
    "version": 2
   },
   "file_extension": ".py",
   "mimetype": "text/x-python",
   "name": "python",
   "nbconvert_exporter": "python",
   "pygments_lexer": "ipython2",
   "version": "2.7.10"
  }
 },
 "nbformat": 4,
 "nbformat_minor": 0
}
